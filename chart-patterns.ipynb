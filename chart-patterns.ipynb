{
 "cells": [
  {
   "cell_type": "code",
   "execution_count": 13,
   "metadata": {},
   "outputs": [],
   "source": [
    "#IMPORTING SOME LIBRARY\n",
    "\n",
    "import pandas as pd\n",
    "import numpy as np\n",
    "from scipy.signal import argrelextrema\n",
    "from collections import defaultdict\n",
    "import warnings\n",
    "import time\n",
    "import matplotlib.pyplot as plt\n",
    "import matplotlib\n",
    "from tqdm import tqdm\n",
    "import json\n",
    "import requests\n",
    "\n",
    "from datetime import datetime, date, timedelta"
   ]
  },
  {
   "cell_type": "code",
   "execution_count": 14,
   "metadata": {},
   "outputs": [
    {
     "output_type": "display_data",
     "data": {
      "text/plain": "<IPython.core.display.HTML object>",
      "text/html": "<style>.container { width:70% !important; }</style>"
     },
     "metadata": {}
    }
   ],
   "source": [
    "#Config chart\n",
    "\n",
    "from IPython.core.display import display, HTML\n",
    "display(HTML(\"<style>.container { width:70% !important; }</style>\"))\n",
    "%config InlineBackend.figure_format = 'retina'"
   ]
  },
  {
   "cell_type": "code",
   "execution_count": 15,
   "id": "c47189fd",
   "metadata": {},
   "outputs": [
    {
     "output_type": "execute_result",
     "data": {
      "text/plain": [
       "array([['1619400480000', '2416.18000000', '2421.66000000', ...,\n",
       "        '353.99025000', '856026.00319940', '0'],\n",
       "       ['1619400540000', '2416.81000000', '2418.98000000', ...,\n",
       "        '257.18111000', '621705.92008800', '0'],\n",
       "       ['1619400600000', '2416.96000000', '2423.64000000', ...,\n",
       "        '373.79736000', '905107.85298880', '0'],\n",
       "       ...,\n",
       "       ['1619430300000', '2448.18000000', '2454.69000000', ...,\n",
       "        '1600.69923000', '3922122.92880010', '0'],\n",
       "       ['1619430360000', '2453.53000000', '2464.00000000', ...,\n",
       "        '1061.88525000', '2610463.49018400', '0'],\n",
       "       ['1619430420000', '2463.58000000', '2464.75000000', ...,\n",
       "        '413.50639000', '1018496.07843430', '0']], dtype='<U21')"
      ]
     },
     "metadata": {},
     "execution_count": 15
    }
   ],
   "source": [
    "url = \"https://api.binance.com/api/v3/klines?symbol=ETHUSDT&interval=1m\"\n",
    "r = requests.get(url)\n",
    "klines = np.array(r.json())\n",
    "klines"
   ]
  },
  {
   "cell_type": "code",
   "execution_count": 17,
   "metadata": {},
   "outputs": [
    {
     "output_type": "execute_result",
     "data": {
      "text/plain": [
       "                    t        o        h        l        c           v  \\\n",
       "0 2021-04-26 01:28:00  2416.18  2421.66  2415.39  2416.81   685.21020   \n",
       "1 2021-04-26 01:29:00  2416.81  2418.98  2415.99  2416.86   509.36885   \n",
       "2 2021-04-26 01:30:00  2416.96  2423.64  2416.96  2422.48   792.93056   \n",
       "3 2021-04-26 01:31:00  2422.74  2432.66  2421.46  2431.94  2338.77610   \n",
       "4 2021-04-26 01:32:00  2431.94  2439.00  2431.50  2432.29  3450.42473   \n",
       "\n",
       "     Close time  Quote asset volume  Number of trades  \\\n",
       "0  1.619401e+12        1.657184e+06             840.0   \n",
       "1  1.619401e+12        1.231319e+06             902.0   \n",
       "2  1.619401e+12        1.919950e+06             960.0   \n",
       "3  1.619401e+12        5.681654e+06            2510.0   \n",
       "4  1.619401e+12        8.404927e+06            4068.0   \n",
       "\n",
       "   Taker buy base asset volume  Taker buy quote asset volume  Ignore  \n",
       "0                    353.99025                  8.560260e+05     0.0  \n",
       "1                    257.18111                  6.217059e+05     0.0  \n",
       "2                    373.79736                  9.051079e+05     0.0  \n",
       "3                   1345.47740                  3.267915e+06     0.0  \n",
       "4                   1567.29247                  3.817936e+06     0.0  "
      ],
      "text/html": "<div>\n<style scoped>\n    .dataframe tbody tr th:only-of-type {\n        vertical-align: middle;\n    }\n\n    .dataframe tbody tr th {\n        vertical-align: top;\n    }\n\n    .dataframe thead th {\n        text-align: right;\n    }\n</style>\n<table border=\"1\" class=\"dataframe\">\n  <thead>\n    <tr style=\"text-align: right;\">\n      <th></th>\n      <th>t</th>\n      <th>o</th>\n      <th>h</th>\n      <th>l</th>\n      <th>c</th>\n      <th>v</th>\n      <th>Close time</th>\n      <th>Quote asset volume</th>\n      <th>Number of trades</th>\n      <th>Taker buy base asset volume</th>\n      <th>Taker buy quote asset volume</th>\n      <th>Ignore</th>\n    </tr>\n  </thead>\n  <tbody>\n    <tr>\n      <th>0</th>\n      <td>2021-04-26 01:28:00</td>\n      <td>2416.18</td>\n      <td>2421.66</td>\n      <td>2415.39</td>\n      <td>2416.81</td>\n      <td>685.21020</td>\n      <td>1.619401e+12</td>\n      <td>1.657184e+06</td>\n      <td>840.0</td>\n      <td>353.99025</td>\n      <td>8.560260e+05</td>\n      <td>0.0</td>\n    </tr>\n    <tr>\n      <th>1</th>\n      <td>2021-04-26 01:29:00</td>\n      <td>2416.81</td>\n      <td>2418.98</td>\n      <td>2415.99</td>\n      <td>2416.86</td>\n      <td>509.36885</td>\n      <td>1.619401e+12</td>\n      <td>1.231319e+06</td>\n      <td>902.0</td>\n      <td>257.18111</td>\n      <td>6.217059e+05</td>\n      <td>0.0</td>\n    </tr>\n    <tr>\n      <th>2</th>\n      <td>2021-04-26 01:30:00</td>\n      <td>2416.96</td>\n      <td>2423.64</td>\n      <td>2416.96</td>\n      <td>2422.48</td>\n      <td>792.93056</td>\n      <td>1.619401e+12</td>\n      <td>1.919950e+06</td>\n      <td>960.0</td>\n      <td>373.79736</td>\n      <td>9.051079e+05</td>\n      <td>0.0</td>\n    </tr>\n    <tr>\n      <th>3</th>\n      <td>2021-04-26 01:31:00</td>\n      <td>2422.74</td>\n      <td>2432.66</td>\n      <td>2421.46</td>\n      <td>2431.94</td>\n      <td>2338.77610</td>\n      <td>1.619401e+12</td>\n      <td>5.681654e+06</td>\n      <td>2510.0</td>\n      <td>1345.47740</td>\n      <td>3.267915e+06</td>\n      <td>0.0</td>\n    </tr>\n    <tr>\n      <th>4</th>\n      <td>2021-04-26 01:32:00</td>\n      <td>2431.94</td>\n      <td>2439.00</td>\n      <td>2431.50</td>\n      <td>2432.29</td>\n      <td>3450.42473</td>\n      <td>1.619401e+12</td>\n      <td>8.404927e+06</td>\n      <td>4068.0</td>\n      <td>1567.29247</td>\n      <td>3.817936e+06</td>\n      <td>0.0</td>\n    </tr>\n  </tbody>\n</table>\n</div>"
     },
     "metadata": {},
     "execution_count": 17
    }
   ],
   "source": [
    "def binance_to_df(klines):\n",
    "    df = pd.DataFrame(klines.reshape(-1,12),dtype=float, columns = ('t',\n",
    "                                                                    'o',\n",
    "                                                                    'h',\n",
    "                                                                    'l',\n",
    "                                                                    'c',\n",
    "                                                                    'v',\n",
    "                                                                    'Close time',\n",
    "                                                                    'Quote asset volume',\n",
    "                                                                    'Number of trades',\n",
    "                                                                    'Taker buy base asset volume',\n",
    "                                                                    'Taker buy quote asset volume',\n",
    "                                                                    'Ignore'))\n",
    "\n",
    "    df['t'] = pd.to_datetime(df['t'], unit='ms')\n",
    "\n",
    "\n",
    "    return df\n",
    "\n",
    "prices = binance_to_df(klines)\n",
    "prices.head()"
   ]
  },
  {
   "cell_type": "code",
   "execution_count": null,
   "metadata": {},
   "outputs": [],
   "source": [
    "def resample(stock_data, rate):\n",
    "    stock_data = stock_data.resample(rate, on='t',closed='right', label='right').agg({'o': 'first',\n",
    "                                                                                                 'h': 'max',\n",
    "                                                                                                 'l': 'min',\n",
    "                                                                                                 'c': 'last'}).dropna()\n",
    "    return stock_data\n"
   ]
  }
 ],
 "metadata": {
  "kernelspec": {
   "name": "py37",
   "display_name": "Python 3.7.10 64-bit ('py37': conda)"
  },
  "language_info": {
   "codemirror_mode": {
    "name": "ipython",
    "version": 3
   },
   "file_extension": ".py",
   "mimetype": "text/x-python",
   "name": "python",
   "nbconvert_exporter": "python",
   "pygments_lexer": "ipython3",
   "version": "3.7.10"
  }
 },
 "nbformat": 4,
 "nbformat_minor": 5
}